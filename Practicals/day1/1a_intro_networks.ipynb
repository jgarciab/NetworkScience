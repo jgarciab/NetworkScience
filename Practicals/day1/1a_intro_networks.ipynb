{
 "cells": [
  {
   "cell_type": "code",
   "execution_count": null,
   "id": "b93ef133",
   "metadata": {},
   "outputs": [],
   "source": [
    "# On Colab, you can uncomment the line below to install the required packages.\n",
    "# !pip install networkx igraph pandas numpy matplotlib seaborn scipy\n",
    "\n",
    "# Clone the repo (to get access to the module)\n",
    "#!git clone https://github.com/jgarciab/NetworkScience.git\n",
    "#import sys\n",
    "#sys.path.append('/content/NetworkScience/Practicals/day1/')\n"
   ]
  },
  {
   "cell_type": "code",
   "execution_count": null,
   "id": "d5626530",
   "metadata": {},
   "outputs": [],
   "source": [
    "# on your computer\n",
    "path_data = \"../../Data/\"\n",
    "\n",
    "# on colab uncomment the line below\n",
    "# path_data = \"/content/NetworkScience/Data/\""
   ]
  },
  {
   "cell_type": "markdown",
   "id": "2b89c11f",
   "metadata": {},
   "source": [
    "# Introduction to Network Science Practical\n",
    "\n",
    "Welcome to the first practical session on network science! In this tutorial, you will learn how to read, visualize, and analyze real-world networks using Python libraries such as `networkx`, `igraph`, and `pandas`.\n",
    "\n",
    "**Learning objectives:**\n",
    "- Get comfortable with basic network data structures and visualization.\n",
    "- Explore key network properties (connectedness, diameter, density, clustering, assortativity, degree distribution, robustness).\n",
    "- Compare real-world networks to reference models.\n",
    "\n",
    "Each section contains explanations, code, and exercises. Read the explanations carefully and try to understand the code before running it. Comments in the code will help guide you."
   ]
  },
  {
   "cell_type": "code",
   "execution_count": null,
   "id": "b6535345",
   "metadata": {},
   "outputs": [],
   "source": [
    "# Import network analysis libraries\n",
    "import networkx as nx  # For network analysis\n",
    "import igraph as ig    # For fast network analysis and layout\n",
    "\n",
    "# Import data processing libraries\n",
    "import pandas as pd    # For data manipulation\n",
    "import numpy as np     # For numerical operations\n",
    "\n",
    "# Import utility functions from local file\n",
    "import sys\n",
    "sys.path.append(\"./\")\n",
    "from common_functions import *  # Custom helper functions\n",
    "\n",
    "# Import visualization libraries\n",
    "import pylab as plt\n",
    "import seaborn as sns\n",
    "\n",
    "# Set custom visualization parameters for better aesthetics\n",
    "custom_params = {\n",
    "    \"axes.spines.right\": False, \"axes.spines.top\": False, \"axes.spines.left\": False, \"axes.spines.bottom\": False,\n",
    "    \"lines.linewidth\": 2, \"grid.color\": \"lightgray\", \"legend.frameon\": False,\n",
    "    \"xtick.labelcolor\": \"#484848\", \"ytick.labelcolor\": \"#484848\",\n",
    "    \"xtick.color\": \"#484848\", \"ytick.color\": \"#484848\",\n",
    "    \"text.color\": \"#484848\", \"axes.labelcolor\": \"#484848\",\n",
    "    \"axes.titlecolor\":\"#484848\", \"figure.figsize\": [5,3],\n",
    "    \"axes.titlelocation\":\"left\",\n",
    "    \"xaxis.labellocation\":\"left\",\n",
    "    \"yaxis.labellocation\":\"bottom\"\n",
    "}\n",
    "# Define a color palette for plots\n",
    "palette = [\"#3d348b\",\"#e6af2e\",\"#191716\",\"#e0e2db\"]  # Custom color palette\n",
    "sns.set_theme(context='paper', style='white', palette=palette, font_scale=1.3, color_codes=True, rc=custom_params)\n",
    "\n",
    "# Widen the notebook display for better plot visibility\n",
    "from IPython.display import display, HTML\n",
    "display(HTML(\"<style>.container { width:90% !important; }</style>\"))"
   ]
  },
  {
   "cell_type": "markdown",
   "id": "4767bb68",
   "metadata": {},
   "source": [
    "# Exercise 1: Reading and visualizing graphs\n",
    "\n",
    "**Goal:** Get used to the `networkx` library for network analysis and visualization.\n",
    "\n",
    "In this section, you'll learn how to load example networks, inspect their structure, and visualize them."
   ]
  },
  {
   "cell_type": "markdown",
   "id": "9a2566d2",
   "metadata": {},
   "source": [
    "## 1.1. Basic plot\n",
    "- Read and understand the following code"
   ]
  },
  {
   "cell_type": "code",
   "execution_count": null,
   "id": "17549962",
   "metadata": {},
   "outputs": [],
   "source": [
    "# Read an example data on florentine marriage families in the XV century\n",
    "G = nx.florentine_families_graph()\n",
    "\n",
    "# Show the nodes and edges\n",
    "print(\"Nodes: \", G.nodes())\n",
    "print(\"Edges: \", G.edges())\n"
   ]
  },
  {
   "cell_type": "code",
   "execution_count": null,
   "id": "5b408279",
   "metadata": {},
   "outputs": [],
   "source": [
    "# Visualize it\n",
    "plt.figure(figsize=(5,4)) #set up dimensions\n",
    "\n",
    "# create layout (once so we can reuse it if needed)\n",
    "# the layout keeps the coordinates of all labels\n",
    "pos = nx.spring_layout(G, seed = 1)\n",
    "nx.draw(G, pos = pos, with_labels = True, \n",
    "        edge_color = \"gray\", node_color = \"lightgray\")"
   ]
  },
  {
   "cell_type": "markdown",
   "id": "a8178dbf",
   "metadata": {},
   "source": [
    "## 1.2. Read and visualize your network\n",
    "Network here: https://tinyurl.com/network-game\n",
    "(I added the direct CSV link. But you could also download it as a CSV file and move it to the folder of this notebook) \n",
    "\n",
    "Use the `nx.from_pandas_edgelist` function (you need to set up the `source` and `target` parameters)\n",
    "Print number of nodes and edges"
   ]
  },
  {
   "cell_type": "code",
   "execution_count": null,
   "id": "c667a9a2",
   "metadata": {},
   "outputs": [],
   "source": [
    "# Read edgelist (link)\n",
    "df = pd.read_csv(\"https://docs.google.com/spreadsheets/d/e/2PACX-1vSuZC86KjXYKSPr0Nw7mfRha4zwea3aMw-gTKliVcbRt_m3NRiCEyxbH_d5M8MBL0LWayg1WDmnqBET/pub?gid=0&single=true&output=csv\")\n",
    "df.head()"
   ]
  },
  {
   "cell_type": "code",
   "execution_count": null,
   "id": "deee6af3",
   "metadata": {},
   "outputs": [],
   "source": [
    "# Get the documentation of the function to convert a pandas DataFrame to a NetworkX graph\n",
    "nx.from_pandas_edgelist?"
   ]
  },
  {
   "cell_type": "code",
   "execution_count": null,
   "id": "f1cdbf54",
   "metadata": {},
   "outputs": [],
   "source": [
    "# Convert to networkx (replace \"...\" with the actual DataFrame variable name)\n",
    "G = nx.from_pandas_edgelist(..., source=\"P1\", target=\"P2\")\n",
    "print(len(G.nodes()))\n",
    "print(len(G.edges()))"
   ]
  },
  {
   "cell_type": "code",
   "execution_count": null,
   "id": "ea2cc766",
   "metadata": {},
   "outputs": [],
   "source": [
    "# create figure and plot\n",
    "plt.figure(figsize=(10,8))\n",
    "\n",
    "# create layout (once so we can reuse it if needed)\n",
    "pos = nx.spring_layout(G, seed = 1)\n",
    "nx.draw(G, pos = pos, with_labels = True, node_size=10,\n",
    "        edge_color = \"lightgray\", node_color = \"gray\")"
   ]
  },
  {
   "cell_type": "markdown",
   "id": "1da80e98",
   "metadata": {},
   "source": [
    "## 1.3a. Read and visualize the Twitter network\n",
    "\n",
    "We will be using (parts of) this network in the following days.\n",
    "\n",
    "It contains mentions, replies and quotes of user A to user B (but let's treat is as undirected)\n",
    "```\n",
    "replied_to    40255\n",
    "mentioned     10407\n",
    "quoted         3448\n",
    "```\n",
    "\n",
    "Use the `nx.from_pandas_edgelist` function\n",
    "Print number of nodes and edges"
   ]
  },
  {
   "cell_type": "code",
   "execution_count": null,
   "id": "d0170e2d",
   "metadata": {},
   "outputs": [],
   "source": [
    "# Read edgelist\n",
    "df = pd.read_csv(f\"{path_data}/ic2s2_netsci_3.tsv\", sep=\"\\t\")\n",
    "display(df.head())\n",
    "\n",
    "# Convert to networkx and remove self-edges\n",
    "G_netsci = nx.from_pandas_edgelist(df)\n",
    "G_netsci.remove_edges_from(nx.selfloop_edges(G_netsci)) #remove self-edges\n",
    "print(len(G_netsci.nodes()))\n",
    "print(len(G_netsci.edges()))"
   ]
  },
  {
   "cell_type": "code",
   "execution_count": null,
   "id": "5251186d",
   "metadata": {},
   "outputs": [],
   "source": [
    "# create figure and plot\n",
    "plt.figure(figsize=(20,16))\n",
    "\n",
    "# create layout (once so we can reuse it if needed)\n",
    "pos = nx.spring_layout(G_netsci, seed = 1)\n",
    "nx.draw(G_netsci, pos = pos, with_labels = False, node_size=10,\n",
    "        edge_color = \"lightgray\", node_color = \"gray\")"
   ]
  },
  {
   "cell_type": "markdown",
   "id": "d8dab30e-1fd1-41cc-be2b-1f692dedf578",
   "metadata": {},
   "source": [
    "## 1.3b. Read and visualize the Protein-Protein interaction network\n",
    "\n",
    "We will be using (parts of) this network in the following days.\n",
    "\n",
    "It contains recorded interactions between pair of proteins in yeas (_S. cerevisiae_).\n",
    "\n",
    "The network data is in a `.graphml` file, a very commonly used network format.\n",
    "\n",
    "Use the `nx.read_graphml` function\n",
    "Print number of nodes and edges"
   ]
  },
  {
   "cell_type": "code",
   "execution_count": null,
   "id": "bfc91e17-f05d-4f60-930e-e706cd80eb49",
   "metadata": {},
   "outputs": [],
   "source": [
    "# Read PPI network\n",
    "path_network = f\"{path_data}/ppi_network_prediction.graphml\"\n",
    "G_ppi = nx.read_graphml(path_network)\n",
    "len(G_ppi.nodes()), len(G_ppi.edges())\n"
   ]
  },
  {
   "cell_type": "code",
   "execution_count": null,
   "id": "edf6cafd",
   "metadata": {
    "scrolled": true
   },
   "outputs": [],
   "source": [
    "# igraph is faster. Here is how to convert to igraph\n",
    "h = ig.Graph().from_networkx(G_ppi)\n",
    "# create layout\n",
    "layout = h.layout_fruchterman_reingold()\n",
    "# create positions in the networx format (as a dictionary)\n",
    "pos = dict(zip(G_ppi.nodes(), layout.coords))\n",
    "\n",
    "# Plot as before\n",
    "plt.figure(figsize=(12, 10))\n",
    "nx.draw(G_ppi, pos = pos, with_labels = False, node_size=20,\n",
    "        edge_color = \"lightgray\", node_color = \"gray\")"
   ]
  },
  {
   "cell_type": "markdown",
   "id": "e6b1b5a9",
   "metadata": {},
   "source": [
    "## 1.4. Read and visualize a large(r) network \n",
    "- Read network in f\"{path_data}/wiki-Vote.txt\". Careful, it is a directed network, you need to use the create_using parameter.\n",
    "\n",
    "(use iterations = 30 in the spring_layout)\n",
    "\n",
    "Format of the file:\n",
    "```\n",
    "# Directed graph (each unordered pair of nodes is saved once): Wiki-Vote.txt \n",
    "# Wikipedia voting on promotion to administratorship (till January 2008). Directed edge A->B means user A voted on B becoming Wikipedia administrator.\n",
    "# Nodes: 7115 Edges: 103689\n",
    "# FromNodeId\tToNodeId\n",
    "30\t1412\n",
    "30\t3352\n",
    "```"
   ]
  },
  {
   "cell_type": "code",
   "execution_count": null,
   "id": "54c36775",
   "metadata": {},
   "outputs": [],
   "source": [
    "# Read directed graph\n",
    "G_wiki = nx.read_edgelist(f\"{path_data}/wiki-Vote.txt\", create_using=nx.DiGraph())\n",
    "print(len(G_wiki.nodes()))\n",
    "print(len(G_wiki.edges()))"
   ]
  },
  {
   "cell_type": "code",
   "execution_count": null,
   "id": "cfcc7e9c",
   "metadata": {},
   "outputs": [],
   "source": [
    "# Create layout (this will take a couple minutes). Networkx is a particularly slow library\n",
    "pos = nx.spring_layout(G_wiki, seed = 1, iterations=30)"
   ]
  },
  {
   "cell_type": "code",
   "execution_count": null,
   "id": "1e9a6c51",
   "metadata": {},
   "outputs": [],
   "source": [
    "# Nobody wants to see your hairball, but let's plot it anyway\n",
    "plt.figure(figsize=(20, 20))\n",
    "\n",
    "# Plot only nodes (too many lines)\n",
    "nx.draw_networkx_nodes(G_wiki, pos = pos, node_size = 1, node_color = \"k\")\n"
   ]
  },
  {
   "cell_type": "markdown",
   "id": "f2ff6d51",
   "metadata": {},
   "source": [
    "# Exercise 2: Network characteristics\n",
    "\n",
    "Network example: Protein interaction (PPI) in yeast. Nodes = Proteins, Edges = Recorded interactions in experiments.\n",
    "\n",
    "**Exercise:** Compare the PPI network and the Twitter network (ic2s2_netsci_3). What characteristics apply to both?\n",
    "\n",
    "In this section, you'll learn how to compute and interpret key network properties."
   ]
  },
  {
   "cell_type": "code",
   "execution_count": null,
   "id": "06807d9d",
   "metadata": {},
   "outputs": [],
   "source": [
    "# Create a copy of the PPI graph for further analysis (change this to G_netsci to study the Twitter network or G_wiki for the Wikipedia network)\n",
    "G = G_ppi.copy()  "
   ]
  },
  {
   "cell_type": "code",
   "execution_count": null,
   "id": "fc54802f",
   "metadata": {},
   "outputs": [],
   "source": [
    "# igraph is faster. Here is how to convert to igraph\n",
    "h = ig.Graph().from_networkx(G)\n",
    "# create layout\n",
    "layout = h.layout_fruchterman_reingold()\n",
    "# create positions in the networx format (as a dictionary)\n",
    "pos = dict(zip(G.nodes(), layout.coords))\n",
    "\n",
    "# Plot as before\n",
    "fig, ax = plt.subplots(figsize=(10, 8))\n",
    "#This function is defined in common_functions.py file. It adds automatic coloring and nicer defaults\n",
    "plot_network(G, a0 = ax, pos = pos, with_labels=False) "
   ]
  },
  {
   "cell_type": "markdown",
   "id": "b7204d45",
   "metadata": {},
   "source": [
    "## 2.1 Connectedness\n",
    "\n",
    "- A connected component is a set of nodes where each node is reachable from any other.\n",
    "- Many real-world networks are not fully connected.\n",
    "- The largest connected component is often called the 'giant component'."
   ]
  },
  {
   "cell_type": "code",
   "execution_count": null,
   "id": "9e57cfb8",
   "metadata": {},
   "outputs": [],
   "source": [
    "# Number of connected components\n",
    "nx.components.number_connected_components(G)"
   ]
  },
  {
   "cell_type": "code",
   "execution_count": null,
   "id": "7c088402",
   "metadata": {},
   "outputs": [],
   "source": [
    "# Size of the connected components (first 20)\n",
    "sorted([len(_) for _ in nx.connected_components(G)])[:-20:-1]"
   ]
  },
  {
   "cell_type": "code",
   "execution_count": null,
   "id": "ac07c20c",
   "metadata": {},
   "outputs": [],
   "source": [
    "# Let's keep the largest component (be careful, don't do this in your data withuot a very good reason)\n",
    "largest_cc = max(nx.connected_components(G), key=len)\n",
    "\n",
    "# Create a subgraph of G consisting only of nodes in largest_cc\n",
    "G = G.subgraph(largest_cc).copy()\n",
    "len(G)"
   ]
  },
  {
   "cell_type": "markdown",
   "id": "de92ae88",
   "metadata": {},
   "source": [
    "## 2.2 Small diameters\n",
    "\n",
    "- The diameter is the longest shortest path between any two nodes.\n",
    "- The average shortest path length is the mean of all shortest paths.\n",
    "- Small diameters are typical in social and biological networks."
   ]
  },
  {
   "cell_type": "code",
   "execution_count": null,
   "id": "1392dae1",
   "metadata": {},
   "outputs": [],
   "source": [
    "# Diameter\n",
    "nx.diameter(G)"
   ]
  },
  {
   "cell_type": "code",
   "execution_count": null,
   "id": "827778dd",
   "metadata": {},
   "outputs": [],
   "source": [
    "# Average shortest path\n",
    "nx.average_shortest_path_length(G)"
   ]
  },
  {
   "cell_type": "markdown",
   "id": "f28e551b",
   "metadata": {},
   "source": [
    "## 2.3 Density\n",
    "\n",
    "- Density is the ratio of actual edges to possible edges.\n",
    "- Sparse networks have low density."
   ]
  },
  {
   "cell_type": "code",
   "execution_count": null,
   "id": "eba3dd49",
   "metadata": {},
   "outputs": [],
   "source": [
    "nx.density(G)"
   ]
  },
  {
   "cell_type": "markdown",
   "id": "c7cbd38f",
   "metadata": {},
   "source": [
    "## 2.4 Transitivity and average clustering \n",
    "\n",
    "- Clustering measures the tendency of nodes to form triangles (closed triplets).\n",
    "- Transitivity is the global clustering coefficient.\n",
    "- Average clustering is the mean of local clustering coefficients."
   ]
  },
  {
   "cell_type": "code",
   "execution_count": null,
   "id": "98a6dc93",
   "metadata": {},
   "outputs": [],
   "source": [
    "# Average at the network level (# triangles / possible number of triangles)\n",
    "print(nx.transitivity(G))\n",
    "\n",
    "# Average at the node level = Average(# triangles_i / possible triangles_i )\n",
    "print(nx.average_clustering(G))"
   ]
  },
  {
   "cell_type": "markdown",
   "id": "0e9ba007",
   "metadata": {},
   "source": [
    "## 2.5 Assortativity and homophily\n",
    "\n",
    "- Assortativity measures the tendency of nodes to connect to similar nodes (e.g., by degree or attribute).\n",
    "- Positive assortativity: high-degree nodes connect to other high-degree nodes.\n",
    "- Negative assortativity: high-degree nodes connect to low-degree nodes."
   ]
  },
  {
   "cell_type": "code",
   "execution_count": null,
   "id": "2fa3b399",
   "metadata": {},
   "outputs": [],
   "source": [
    "nx.assortativity.degree_assortativity_coefficient(G)"
   ]
  },
  {
   "cell_type": "markdown",
   "id": "b5b01ea4",
   "metadata": {},
   "source": [
    "## 2.6 Heavy tails\n",
    "\n",
    "- Many real-world networks have a few nodes with very high degree (hubs) and many with low degree.\n",
    "- This is called a heavy-tailed or scale-free distribution.\n",
    "- Plotting the degree distribution helps reveal this property."
   ]
  },
  {
   "cell_type": "code",
   "execution_count": null,
   "id": "8d396865",
   "metadata": {},
   "outputs": [],
   "source": [
    "degree_list = dict(G.degree()).values()\n",
    "from collections import Counter\n",
    "\n",
    "# count the number of nodes with a specific degree, sort it\n",
    "C = Counter(degree_list)\n",
    "deg, cnt = zip(*sorted(C.items()))\n",
    "\n",
    "# Plot\n",
    "plt.plot(deg, cnt, \"o-\")\n",
    "plt.xlabel(\"Degree\")\n",
    "plt.ylabel(\"Count (degree)\")\n"
   ]
  },
  {
   "cell_type": "code",
   "execution_count": null,
   "id": "8a5b0c1f",
   "metadata": {},
   "outputs": [],
   "source": [
    "# Defined in common_functions.py\n",
    "plot_cdf(degree_list, compl = True, xlabel = \"Degree (d)\", ylabel = \"p(Degree > d)\")\n"
   ]
  },
  {
   "cell_type": "markdown",
   "id": "ad5df77d",
   "metadata": {},
   "source": [
    "## 2.7 Robustness to failures / Fragility to targeted attacks\n",
    "\n",
    "- Networks can be robust to random failures but fragile to targeted attacks (removing hubs).\n",
    "- The code below simulates both scenarios and plots the effect on the largest component.\n",
    "- Compare the behavior of real and random networks."
   ]
  },
  {
   "cell_type": "code",
   "execution_count": null,
   "id": "8684247e",
   "metadata": {},
   "outputs": [],
   "source": [
    "def attack_network(G, how=\"targeted\", n_remove=200):\n",
    "    \"\"\"\n",
    "    Removes nodes iteratively and keeps the (harmonic average of distance between all pairs of nodes)\n",
    "    \n",
    "    how = \"targeted\" targets the node with the highest degree\n",
    "    \"\"\"\n",
    "    n_components = []\n",
    "\n",
    "    G2 = G.copy()\n",
    "    for i in range(n_remove):\n",
    "        if how == \"targeted\":\n",
    "            # Find the node with the highest degree\n",
    "            node_to_remove = max(G2.degree(), key=lambda x: x[1])[0]\n",
    "\n",
    "        else:\n",
    "            # Random node\n",
    "            node_to_remove = np.random.choice(G2.nodes(), 1)[0]\n",
    "\n",
    "        # Remove node\n",
    "        G2.remove_node(node_to_remove)\n",
    "        # Number of nodes in giant component\n",
    "        if isinstance(G2, nx.DiGraph):\n",
    "            n_comp = max([len(_) for _ in nx.weakly_connected_components(G2)])\n",
    "        else:\n",
    "            n_comp = max([len(_) for _ in nx.connected_components(G2)])\n",
    "        n_components.append(100*n_comp/len(G2))\n",
    "        \n",
    "        \n",
    "    return n_components"
   ]
  },
  {
   "cell_type": "code",
   "execution_count": null,
   "id": "00e0fd95",
   "metadata": {},
   "outputs": [],
   "source": [
    "# Create an ER graph (random graph)\n",
    "G_r = nx.random_graphs.gnm_random_graph(1000, len(G.edges()))\n",
    "# Let's keep the largest component (be careful, don't do this in your data withuot a very good reason)\n",
    "largest_cc = max(nx.connected_components(G_r), key=len)\n",
    "\n",
    "# Create a subgraph of G consisting only of nodes in largest_cc\n",
    "G_r = G_r.subgraph(largest_cc).copy()\n",
    "\n",
    "# Plot network random\n",
    "plot_network(G_r, with_labels=False)\n",
    "plt.show()\n",
    "\n",
    "# Plot network PPI\n",
    "plot_network(G, with_labels=False)"
   ]
  },
  {
   "cell_type": "code",
   "execution_count": null,
   "id": "1fe19ba3",
   "metadata": {},
   "outputs": [],
   "source": [
    "n_remove = 200\n",
    "n_comp_attack_t = attack_network(G, how=\"targeted\", n_remove = n_remove)\n",
    "n_comp_attack_r = attack_network(G, how=\"random\", n_remove = n_remove)\n",
    "\n",
    "ref_n_comp_attack_t = attack_network(G_r, how=\"targeted\", n_remove = n_remove)\n",
    "ref_n_comp_attack_r = attack_network(G_r, how=\"random\", n_remove = n_remove)"
   ]
  },
  {
   "cell_type": "code",
   "execution_count": null,
   "id": "3d51b399",
   "metadata": {},
   "outputs": [],
   "source": [
    "plt.figure(figsize=(10, 5))\n",
    "plt.subplot(121)\n",
    "plt.plot(100*np.arange(n_remove)/len(G), n_comp_attack_t, label=\"Protein Interaction\")\n",
    "plt.plot(100*np.arange(n_remove)/len(G), ref_n_comp_attack_t, label=\"Random network\")\n",
    "plt.xlabel(\"Share of nodes removed\")\n",
    "plt.ylabel(\"Share of nodes in giant component\")\n",
    "plt.legend()\n",
    "plt.title(\"Targeted attack\")\n",
    "plt.ylim(0,100)\n",
    "\n",
    "plt.subplot(122)\n",
    "plt.plot(100*np.arange(n_remove)/len(G), n_comp_attack_r, label=\"Protein Interaction\")\n",
    "plt.plot(100*np.arange(n_remove)/len(G), ref_n_comp_attack_r, label=\"Random network\")\n",
    "plt.xlabel(\"Share of nodes removed\")\n",
    "plt.ylabel(\"Share of nodes in giant component\")\n",
    "plt.legend()\n",
    "plt.title(\"Random attack\")\n",
    "plt.ylim(0,100)"
   ]
  },
  {
   "cell_type": "markdown",
   "id": "d5e14cc1-167c-47c5-bc72-d824e2346448",
   "metadata": {},
   "source": [
    "### Comparison PPI and Twitter\n",
    "- Connectedness:\n",
    "    - Twitter: \n",
    "    - PPI: \n",
    "- Diameter:\n",
    "    - Twitter: \n",
    "    - PPI: \n",
    "- Density,\n",
    "    - Twitter: \n",
    "    - PPI: \n",
    "- Transitivity:\n",
    "    - Twitter: \n",
    "    - PPI: \n",
    "- Average clustering:\n",
    "    - Twitter: \n",
    "    - PPI: \n",
    "- Degree assortativity:\n",
    "    - Twitter: \n",
    "    - PPI: \n",
    "- Robustness:\n",
    "    - Twitter: \n",
    "    - PPI: \n",
    "    "
   ]
  },
  {
   "cell_type": "markdown",
   "id": "e9985571",
   "metadata": {},
   "source": [
    "# Exercise 3: Distributions (i.e. looking at characteristics of the nodes)\n",
    "- Degree\n",
    "- Number of triangles\n",
    "- Clustering (transitivity)\n",
    "- Local assortativity (homophily)\n",
    "- Path length\n",
    "\n",
    "__Goal__: Understand how to calculate distributions in `networkx`, interpret differences in the degree distribution \n",
    "\n",
    "__Exercise__: In 3.7 compare the Wikipedia network (default example), the PPI network and the Twitter network (IC2S2)"
   ]
  },
  {
   "cell_type": "code",
   "execution_count": null,
   "id": "16f880a5",
   "metadata": {},
   "outputs": [],
   "source": [
    "# Read data on florentine marriage families in the XV century\n",
    "G = nx.florentine_families_graph()\n",
    "len(G)"
   ]
  },
  {
   "cell_type": "code",
   "execution_count": null,
   "id": "3d4837fe",
   "metadata": {},
   "outputs": [],
   "source": [
    "# Use the following function to plot the CDF of the degree distributions\n",
    "def plot_cdf(values, scale = \"log\", ax = None, cum = True, compl = False, marker = 'o-', xlabel = \"Degree (d)\", ylabel = \"p(Degree < d)\"):\n",
    "    \"\"\"\n",
    "    Calculates and plot CDF\n",
    "    \"\"\"\n",
    "    \n",
    "    from collections import Counter\n",
    "\n",
    "    # count the number of instance per each degree, sort it\n",
    "    C = Counter(values)\n",
    "    deg, cnt = zip(*sorted(C.items()))\n",
    "    \n",
    "    # calcualte the cumulative distribution, normalize to be a probability instead of a count\n",
    "    if cum:\n",
    "        cs = np.cumsum(cnt)/np.sum(cnt)\n",
    "    else:\n",
    "        cs = cnt/np.sum(cnt)\n",
    "    \n",
    "    if compl:\n",
    "        cs = 1 - cs\n",
    "        \n",
    "    if ax is None:\n",
    "        ax = plt.subplot()\n",
    "    # plot\n",
    "    ax.plot(deg, cs, marker)\n",
    "    ax.set_ylabel(ylabel)\n",
    "    ax.set_xlabel(xlabel)\n",
    "    plt.tight_layout()\n",
    "    sns.despine(left=True, bottom=True)\n",
    "    plt.xscale(scale)\n",
    "    plt.yscale(scale)\n",
    "    "
   ]
  },
  {
   "cell_type": "markdown",
   "id": "998712a3",
   "metadata": {},
   "source": [
    "## 3.1 Degree distribution\n",
    "\n",
    "- The degree of a node is the number of connections it has.\n",
    "- Plotting the degree distribution helps identify hubs and the overall structure.\n",
    "- Use both histograms and cumulative distribution functions (CDF/CCDF) for insight."
   ]
  },
  {
   "cell_type": "code",
   "execution_count": null,
   "id": "913ddeb2",
   "metadata": {},
   "outputs": [],
   "source": [
    "def plot_network_distribution(G, values, mult = 1000, with_labels = True):\n",
    "    \"\"\"\n",
    "    Plots network (color and node size depends on values) and distributions\n",
    "    \"\"\"\n",
    "    import matplotlib as mpl\n",
    "    norm = mpl.colors.Normalize(vmin=min(values), vmax=max(values), clip=True)\n",
    "    mapper = mpl.cm.ScalarMappable(norm=norm, cmap=mpl.cm.coolwarm)\n",
    "\n",
    "\n",
    "    f, (a0, a1, a2) = plt.subplots(1, 3, gridspec_kw={'width_ratios': [2, 1, 1]}, figsize=(12,4))\n",
    "    \n",
    "    node_size = mult*np.array(list(values))\n",
    "    if min(node_size) < 0:\n",
    "        node_size -= min(node_size)\n",
    "        node_size += 1\n",
    "        \n",
    "    nx.draw(G, pos = nx.spring_layout(G, seed = 1), with_labels = with_labels, node_size = node_size, edge_color = \"gray\", \n",
    "           node_color = [mapper.to_rgba(i) for i in values], ax = a0,)\n",
    "\n",
    "\n",
    "    sns.histplot(values, ax = a1)\n",
    "    \n",
    "    \n",
    "    plot_cdf(values, ax = a2, compl = True, xlabel = \"Cent c\", ylabel = \"p(Cent > c)\")"
   ]
  },
  {
   "cell_type": "code",
   "execution_count": null,
   "id": "3033f75e",
   "metadata": {},
   "outputs": [],
   "source": [
    "# Degree distribution\n",
    "degree = G.degree() #also nx.degree(G)\n",
    "degree_values = dict(degree).values()\n",
    "\n",
    "# Plot using sns.histplot\n",
    "sns.histplot(degree_values)\n",
    "print(sorted(degree_values))"
   ]
  },
  {
   "cell_type": "code",
   "execution_count": null,
   "id": "3d1faa5f",
   "metadata": {},
   "outputs": [],
   "source": [
    "# Plot CDF in log-log scale\n",
    "plot_cdf(degree_values, scale = \"log\", ax = None, cum = True, compl = True)"
   ]
  },
  {
   "cell_type": "code",
   "execution_count": null,
   "id": "6a9dcf85",
   "metadata": {},
   "outputs": [],
   "source": [
    "# change \"mult\" to change the size of the nodes \n",
    "plot_network_distribution(G, degree_values, mult = 100)"
   ]
  },
  {
   "cell_type": "markdown",
   "id": "3f57f36b",
   "metadata": {},
   "source": [
    "## 3.2 Distribution of number of triangles\n",
    "\n",
    "- The number of triangles a node participates in is a measure of local clustering.\n",
    "- Plotting this distribution shows which nodes are in tightly-knit groups."
   ]
  },
  {
   "cell_type": "code",
   "execution_count": null,
   "id": "cbe7b2f0",
   "metadata": {},
   "outputs": [],
   "source": [
    "# Distribution of the number of triangles per node\n",
    "n_triangs = nx.triangles(G).values() \n",
    "display(list(zip(G.nodes(), n_triangs))[:20])\n",
    "\n",
    "plot_network_distribution(G, n_triangs, mult = 100)"
   ]
  },
  {
   "cell_type": "markdown",
   "id": "4ec072d6",
   "metadata": {},
   "source": [
    "## 3.3 Distribution of clustering\n",
    "\n",
    "- Clustering measures the tendency of nodes to form tightly-knit groups.\n",
    "- This distribution shows how many clusters (triangles) each node is part of."
   ]
  },
  {
   "cell_type": "code",
   "execution_count": null,
   "id": "f713c1f6",
   "metadata": {},
   "outputs": [],
   "source": [
    "# Replace \"...\" with the actual calculation of clustering coefficients (nx....)\n",
    "n_clus = ...\n",
    "display(list(zip(G.nodes(), n_clus.values()))[:20])\n",
    "\n",
    "plot_network_distribution(G, n_clus, mult = 1000)"
   ]
  },
  {
   "cell_type": "markdown",
   "id": "a3a41d71",
   "metadata": {},
   "source": [
    "### 3.4 Distribution of shortest paths\n",
    "\n",
    "- The distribution of shortest path lengths gives insight into how 'small' the network is.\n",
    "- For large networks, calculating all shortest paths can be slow.\n",
    "- Consider sampling or using approximate methods for very large graphs."
   ]
  },
  {
   "cell_type": "code",
   "execution_count": null,
   "id": "c47c87af",
   "metadata": {},
   "outputs": [],
   "source": [
    "# Calculate all shortest paths (careful, this quickly becomes unfeasible)\n",
    "path_lenghts = ...\n",
    "\n",
    "# Get results from a nested dictionary\n",
    "path_lenghts = [list(_[1].values()) for _ in path_lenghts]\n",
    "path_lenghts = [subitem for item in path_lenghts for subitem in item ]\n",
    "\n",
    "# Plot using sns.histplot\n",
    "sns.histplot(path_lenghts)\n",
    "plt.show()"
   ]
  },
  {
   "cell_type": "markdown",
   "id": "5d69dcf0",
   "metadata": {},
   "source": [
    "## 3.5 Distribution of local assortativity\n",
    "\n",
    "- Local assortativity measures how similar a node's neighbors are to itself.\n",
    "- This can reveal patterns of homophily (like-with-like) at the node level."
   ]
  },
  {
   "cell_type": "code",
   "execution_count": null,
   "id": "2c1f70d5",
   "metadata": {},
   "outputs": [],
   "source": [
    "attribute = [k for v,k in G.degree()]\n",
    "# Defined in common_functions (based on Peel et al 2018)\n",
    "local_assort = calculate_local_assort(G, attribute)\n",
    "display(list(zip(G.nodes(), local_assort))[:20])\n",
    "\n",
    "plot_network_distribution(G, local_assort, mult = 1000)"
   ]
  },
  {
   "cell_type": "markdown",
   "id": "8e863fc5",
   "metadata": {},
   "source": [
    "## 3.6 Degree distribution if ~ normal distribution (used in the lectures)\n"
   ]
  },
  {
   "cell_type": "code",
   "execution_count": null,
   "id": "70f6f7ef",
   "metadata": {},
   "outputs": [],
   "source": [
    "# Don't change this\n",
    "def plot_distributions(d, scale=\"log\"):\n",
    "    \"\"\"\n",
    "    Plot the PDF, CDF and CCDF.\n",
    "    \"\"\"\n",
    "    plt.figure(figsize=(12,4))\n",
    "    ax = plt.subplot(131)\n",
    "    plot_cdf(d, cum = False, ax = ax,  xlabel = \"Degree (d)\", ylabel = \"p(Degree)\", marker = \".\", scale=scale)\n",
    "\n",
    "        \n",
    "    plt.title(\"PDF\")\n",
    "    ax = plt.subplot(132)\n",
    "    plot_cdf(d, cum = True, ax = ax,  xlabel = \"Degree (d)\", ylabel = \"p(Degree < d)\", marker=\"-\", scale=scale)\n",
    "    plt.title(\"CDF\")\n",
    "    ax = plt.subplot(133)\n",
    "    plot_cdf(d, compl = True, ax = ax,  xlabel = \"Degree (d)\", ylabel = \"p(Degree > d)\", marker=\".-\", scale=scale)\n",
    "    plt.title(\"CCDF\")\n",
    "    "
   ]
  },
  {
   "cell_type": "code",
   "execution_count": null,
   "id": "9d68e564",
   "metadata": {},
   "outputs": [],
   "source": [
    "## Degree distribution (random normally distributed data)\n",
    "## Try changing the scale to \"log\"\n",
    "d = np.random.binomial(500, p = 30/500, size = 10000)\n",
    "plot_distributions(d, scale=\"linear\")\n"
   ]
  },
  {
   "cell_type": "markdown",
   "id": "782ac2e0",
   "metadata": {},
   "source": [
    "## 3.7 Degree distribution in the Wiki/Twitter/PPI networks\n",
    "\n",
    "- Compare the degree distributions of the Wikipedia, Twitter, and PPI networks.\n",
    "- Use log-log plots to highlight heavy tails.\n",
    "- What differences do you observe?"
   ]
  },
  {
   "cell_type": "code",
   "execution_count": null,
   "id": "02989329",
   "metadata": {},
   "outputs": [],
   "source": [
    "## Degree distribution (wiki network)\n",
    "# Try the code using scale = \"linear\"\n",
    "G_wiki = nx.read_edgelist(f\"{path_data}/wiki-Vote.txt\", create_using=nx.DiGraph())\n",
    "d = [v for k,v in G_wiki.degree()]\n",
    "plot_distributions(d, \"log\")\n",
    "plt.xlim([100,1000])\n",
    "plt.plot([2E2, 1E3], [2.5E-2,2.5E-4],\"--\")\n",
    "\n"
   ]
  },
  {
   "cell_type": "code",
   "execution_count": null,
   "id": "29321b85",
   "metadata": {},
   "outputs": [],
   "source": [
    "# Twitter data\n",
    "df = pd.read_csv(f\"{path_data}/ic2s2_netsci_3.tsv\", sep=\"\\t\")\n",
    "G_twitter = nx.from_pandas_edgelist(df)\n",
    "G_twitter.remove_edges_from(nx.selfloop_edges(G_twitter)) #remove self-edges\n",
    "\n",
    "d = [v for k,v in G_twitter.degree()]\n",
    "plot_distributions(d, \"log\")\n",
    "plt.xlim([100,1000])\n",
    "plt.plot([2E2, 1E3], [2.5E-2,2.5E-4],\"--\")"
   ]
  },
  {
   "cell_type": "code",
   "execution_count": null,
   "id": "43b2e02e",
   "metadata": {},
   "outputs": [],
   "source": [
    "# PPI data\n",
    "path_network = f\"{path_data}/ppi_network_prediction.graphml\"\n",
    "G_ppi = nx.read_graphml(path_network, node_type=int)\n",
    "\n",
    "d = [v for k,v in G_ppi.degree()]\n",
    "plot_distributions(d, \"log\")\n",
    "\n",
    "plt.plot([2E1, 1E2], [2.5E-2,2.5E-4],\"--\")"
   ]
  },
  {
   "cell_type": "markdown",
   "id": "429bea65",
   "metadata": {},
   "source": [
    "# Exercise 4\n",
    "Is the network homophilic? (Do nodes connect to similar nodes?)\n",
    "\n",
    "- Calculate the assortativity coefficient.\n",
    "- Use permutation tests and random models to assess significance.\n",
    "\n",
    "**Goal:** Understand permutation tests (4A) and reference models (4B)."
   ]
  },
  {
   "cell_type": "markdown",
   "id": "4e0d96de-fd8b-402d-b329-808c86c89ee3",
   "metadata": {},
   "source": [
    "## Exercise 4A: Permutation test\n",
    "\n",
    "- Shuffle node labels and recalculate assortativity to create a null distribution.\n",
    "- Compare the observed value to the null to assess significance.\n",
    "- The p-value is the probability of observing a value as extreme as the real one under the null."
   ]
  },
  {
   "cell_type": "code",
   "execution_count": null,
   "id": "24e6abfa",
   "metadata": {},
   "outputs": [],
   "source": [
    "# Create labels (I made them up)\n",
    "ns = ['Acciaiuoli', 'Medici', 'Castellani', 'Peruzzi', 'Strozzi', 'Barbadori', 'Ridolfi', 'Tornabuoni', 'Albizzi', 'Salviati', 'Pazzi', 'Bischeri', 'Guadagni', 'Ginori', 'Lamberteschi']\n",
    "classes = [\"m\", \"m\", \"o\", \"o\", \"o\", \"o\", \"o\", \"m\", \"m\", \"m\", \"o\", \"o\", \"o\", \"o\", \"o\"]\n",
    "nx.set_node_attributes(G, dict(zip(ns,classes)), \"classes\")\n",
    "\n",
    "# Plot\n",
    "nx.draw(G, pos = nx.spring_layout(G, seed = 1), with_labels = True, edge_color = \"gray\", \n",
    "       node_color = [palette[0] if c == \"m\" else palette[1] for c in classes])\n",
    "    "
   ]
  },
  {
   "cell_type": "code",
   "execution_count": null,
   "id": "1f0deb8a",
   "metadata": {},
   "outputs": [],
   "source": [
    "# calculate assortativity coefficient\n",
    "assort = ...\n",
    "assort"
   ]
  },
  {
   "cell_type": "code",
   "execution_count": null,
   "id": "daf87a30",
   "metadata": {},
   "outputs": [],
   "source": [
    "# Permute node labels\n",
    "G2 = G.copy()\n",
    "\n",
    "# Randomize classes and calculate assortativity\n",
    "iters = 10000\n",
    "values = []\n",
    "for i in range(iters):\n",
    "    # shuffle the classes\n",
    "    permuted_classes = np.random.permutation(classes)\n",
    "    # map classes to nodes \n",
    "    map_classes = dict(zip(ns, permuted_classes))\n",
    "    nx.set_node_attributes(G2, map_classes, \"classes\")\n",
    "    # calculate assortativity and keep in a list\n",
    "    values.append(nx.assortativity.attribute_assortativity_coefficient(G2, \"classes\"))\n",
    "values = np.array(values)\n",
    "\n",
    "# Plot results\n",
    "sns.histplot(values, binwidth=0.05)\n",
    "plt.plot([assort, assort],[0, iters/10], \"--\", color=\"gray\")\n",
    "\n",
    "# p-value (probability that we would observe a value equal or more extreme to the one observed given \n",
    "# that the null hyphotesis is true---i.e. the graph is the real graph and the links \n",
    "# are not correlated with the classes\n",
    "1-len(values[values<assort])/len(values)"
   ]
  },
  {
   "cell_type": "markdown",
   "id": "8488f10e",
   "metadata": {},
   "source": [
    "# Exercise 4B: Reference model\n",
    "Is the network transitive? (are your friends also friends themselves?)\n",
    "\n",
    "We can calculate the average clustering\n",
    "\n",
    "- Problem:  We have nothing to compare against.\n",
    "- Solution: Shuffle the edges (permutation model) or Grow the network (generative model)\n"
   ]
  },
  {
   "cell_type": "code",
   "execution_count": null,
   "id": "edb409f9",
   "metadata": {},
   "outputs": [],
   "source": [
    "# Read data on florentine marriage families in the XV century\n",
    "G = nx.florentine_families_graph()"
   ]
  },
  {
   "cell_type": "code",
   "execution_count": null,
   "id": "3c357c23",
   "metadata": {},
   "outputs": [],
   "source": [
    "# Calculate average clustering\n",
    "print(...)\n",
    "# Calculate global clustering (transitivity)\n",
    "print(...)\n",
    "# Calculate degree assortativity\n",
    "print(...)"
   ]
  },
  {
   "cell_type": "markdown",
   "id": "ca861531",
   "metadata": {},
   "source": [
    "#### We can compare our network to randomly generated data (this is useful to test hypothesis/get a baseline)"
   ]
  },
  {
   "cell_type": "code",
   "execution_count": null,
   "id": "a17f9599",
   "metadata": {},
   "outputs": [],
   "source": [
    "# Visualize random graphs (run several times)\n",
    "degree_seq = [v for k,v in G.degree()]\n",
    "G_r = nx.configuration_model(degree_seq)\n",
    "G_r = nx.Graph(G_r)\n",
    "nx.draw(G_r)"
   ]
  },
  {
   "cell_type": "code",
   "execution_count": null,
   "id": "3af9f377",
   "metadata": {},
   "outputs": [],
   "source": [
    "# Visualize random graphs (run several times)\n",
    "n = len(G)\n",
    "m = len(G.edges())\n",
    "G_r = nx.random_graphs.barabasi_albert_graph(n,int(m/n)+1)\n",
    "G_r = nx.Graph(G_r)\n",
    "nx.draw(G_r)"
   ]
  },
  {
   "cell_type": "code",
   "execution_count": null,
   "id": "8bb55253",
   "metadata": {},
   "outputs": [],
   "source": [
    "# Visualize random graphs (run several times)\n",
    "n = len(G)\n",
    "m = len(G.edges())\n",
    "G_r = nx.random_graphs.gnm_random_graph(n,m)\n",
    "G_r = nx.Graph(G_r)\n",
    "nx.draw(G_r)"
   ]
  },
  {
   "cell_type": "markdown",
   "id": "387cfdee",
   "metadata": {},
   "source": [
    "#### The function conf_int (defined in common_functions.py) creates 100 random graphs and calculates the desired metric"
   ]
  },
  {
   "cell_type": "code",
   "execution_count": null,
   "id": "5fa1594f",
   "metadata": {},
   "outputs": [],
   "source": [
    "# Average local clustering coefficient\n",
    "conf_int(G, nx.average_clustering, 100)\n",
    "nx.average_clustering(G)\n",
    "#same as np.mean(list(nx.clustering(G).values()))"
   ]
  },
  {
   "cell_type": "code",
   "execution_count": null,
   "id": "838d9f74",
   "metadata": {},
   "outputs": [],
   "source": [
    "# Transitivity (global clustering)\n",
    "conf_int(G, nx.transitivity, 100)\n",
    "nx.transitivity(G)"
   ]
  },
  {
   "cell_type": "code",
   "execution_count": null,
   "id": "6f4e0f94",
   "metadata": {},
   "outputs": [],
   "source": [
    "# Assortativity\n",
    "conf_int(G, nx.assortativity.degree_assortativity_coefficient, 100)\n",
    "nx.assortativity.degree_assortativity_coefficient(G)\n"
   ]
  },
  {
   "cell_type": "markdown",
   "id": "c6dc4846",
   "metadata": {},
   "source": [
    "# Exercise 4B.2\n",
    "\n",
    "Use igraph to read the network and calculate assortativity, and compare with random model (ER)\n",
    "\n",
    "# In this section, you'll see how to use igraph for fast network analysis and compare real network properties to those of random graphs.\n",
    "#\n",
    "# This helps you understand if observed properties are due to network structure or just random chance."
   ]
  },
  {
   "cell_type": "code",
   "execution_count": null,
   "id": "0ff5ffb1",
   "metadata": {},
   "outputs": [],
   "source": [
    "G_wiki = nx.read_edgelist(f\"{path_data}/wiki-Vote.txt\", create_using=nx.DiGraph())\n",
    "# Read directed graph and print basic info\n",
    "print(len(G_wiki.nodes()))  # Number of nodes\n",
    "print(len(G_wiki.edges()))  # Number of edges\n",
    "\n",
    "# Convert to igraph for faster computation\n",
    "h = ig.Graph.from_networkx(G_wiki)\n",
    "\n",
    "# Compare speed of assortativity calculation in igraph vs networkx\n",
    "%timeit h.assortativity_degree()  # igraph: fast\n",
    "%timeit nx.assortativity.degree_assortativity_coefficient(G_wiki)  # networkx: slower"
   ]
  },
  {
   "cell_type": "markdown",
   "id": "98b5105e",
   "metadata": {},
   "source": [
    "### Compare with random model (ER)\n",
    "\n",
    "- Compare your network's clustering and assortativity to random graphs with the same degree sequence.\n",
    "- Use the configuration model or other random graph models.\n",
    "- This helps determine if observed properties are due to chance or network structure."
   ]
  },
  {
   "cell_type": "code",
   "execution_count": null,
   "id": "44821cd1",
   "metadata": {},
   "outputs": [],
   "source": [
    "# networkx\n",
    "def conf_dens_nx(n, m):\n",
    "    \"\"\"Create random graph and calculate assortativity in networkx\"\"\"\n",
    "    G_r = nx.random_graphs.gnm_random_graph(n,m)\n",
    "    return nx.assortativity.degree_assortativity_coefficient(G_r)\n",
    "def conf_dens_ig(n,m):\n",
    "    \"\"\"Create random graph and calculate assortativity in igraph\"\"\"\n",
    "    h_r = ig.Graph.Erdos_Renyi(n=n,m=m)\n",
    "    return h_r.assortativity_degree()"
   ]
  },
  {
   "cell_type": "code",
   "execution_count": null,
   "id": "55bb3feb",
   "metadata": {},
   "outputs": [],
   "source": [
    "%%time\n",
    "# Doing it in networkx 10 times\n",
    "n, m = len(G_wiki), len(G_wiki.edges())\n",
    "print(np.percentile([conf_dens_nx(n, m) for i in range(10)], [5,95]))\n",
    "\n",
    "nx.assortativity.degree_assortativity_coefficient(G_wiki)"
   ]
  },
  {
   "cell_type": "code",
   "execution_count": null,
   "id": "6c911d3d",
   "metadata": {},
   "outputs": [],
   "source": [
    "%%time\n",
    "# Doing it in igraph 100 times\n",
    "n, m = h.vcount(), h.ecount()\n",
    "print(np.percentile([conf_dens_ig(n,m) for i in range(100)], [5,95]))\n",
    "\n",
    "h.assortativity_degree()"
   ]
  },
  {
   "cell_type": "code",
   "execution_count": null,
   "id": "498e0201",
   "metadata": {},
   "outputs": [],
   "source": []
  },
  {
   "cell_type": "code",
   "execution_count": null,
   "id": "24e2cc87",
   "metadata": {},
   "outputs": [],
   "source": []
  },
  {
   "cell_type": "code",
   "execution_count": null,
   "id": "7024595d",
   "metadata": {},
   "outputs": [],
   "source": []
  }
 ],
 "metadata": {
  "kernelspec": {
   "display_name": "networks",
   "language": "python",
   "name": "python3"
  },
  "language_info": {
   "codemirror_mode": {
    "name": "ipython",
    "version": 3
   },
   "file_extension": ".py",
   "mimetype": "text/x-python",
   "name": "python",
   "nbconvert_exporter": "python",
   "pygments_lexer": "ipython3",
   "version": "3.13.5"
  }
 },
 "nbformat": 4,
 "nbformat_minor": 5
}
